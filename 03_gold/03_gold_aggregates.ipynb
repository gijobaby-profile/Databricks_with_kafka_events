{
 "cells": [
  {
   "cell_type": "code",
   "execution_count": 0,
   "metadata": {
    "application/vnd.databricks.v1+cell": {
     "cellMetadata": {},
     "inputWidgets": {},
     "nuid": "b7897667-33ce-4bd4-89f5-f93f3313d54e",
     "showTitle": false,
     "tableResultSettingsMap": {},
     "title": ""
    }
   },
   "outputs": [],
   "source": [
    "silver_stream = spark.readStream.format('delta').load(silver_path)\n",
    "\n",
    "agg = (silver_stream\n",
    "  .groupBy(F.window('event_ts','5 minutes'), F.col('customer_id'))\n",
    "  .agg(F.sum('amount').alias('revenue'), F.count('*').alias('orders'))\n",
    "  .select(F.col('window.start').alias('window_start'),\n",
    "          F.col('window.end').alias('window_end'),\n",
    "          'customer_id','revenue','orders'))\n",
    "\n",
    "gold_path = 'dbfs:/pipelines/orders/gold_revenue'\n",
    "ckpt_gold = 'dbfs:/pipelines/orders/_ckpt_gold'\n",
    "\n",
    "(agg.writeStream\n",
    "  .format('delta')\n",
    "  .outputMode('complete')\n",
    "  .option('checkpointLocation', ckpt_gold)\n",
    "  .trigger(processingTime='1 minute')\n",
    "  .start(gold_path))"
   ]
  }
 ],
 "metadata": {
  "application/vnd.databricks.v1+notebook": {
   "computePreferences": null,
   "dashboards": [],
   "environmentMetadata": {
    "base_environment": "",
    "environment_version": "2"
   },
   "inputWidgetPreferences": null,
   "language": "python",
   "notebookMetadata": {
    "pythonIndentUnit": 4
   },
   "notebookName": "03_gold_aggregates",
   "widgets": {}
  },
  "language_info": {
   "name": "python"
  }
 },
 "nbformat": 4,
 "nbformat_minor": 0
}
