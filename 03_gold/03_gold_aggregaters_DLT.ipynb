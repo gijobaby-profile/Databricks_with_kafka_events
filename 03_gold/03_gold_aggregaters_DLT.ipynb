{
 "cells": [
  {
   "cell_type": "code",
   "execution_count": 0,
   "metadata": {
    "application/vnd.databricks.v1+cell": {
     "cellMetadata": {},
     "inputWidgets": {},
     "nuid": "e75d927d-2bb8-45f0-a858-2b0fb64c5f4e",
     "showTitle": false,
     "tableResultSettingsMap": {},
     "title": ""
    }
   },
   "outputs": [],
   "source": [
    "import dlt\n",
    "from pyspark.sql.functions import col\n",
    "from pyspark.sql.avro.functions import from_avro"
   ]
  },
  {
   "cell_type": "code",
   "execution_count": 0,
   "metadata": {
    "application/vnd.databricks.v1+cell": {
     "cellMetadata": {},
     "inputWidgets": {},
     "nuid": "8279ce7e-62d0-4e69-85ab-92ef77a2464e",
     "showTitle": false,
     "tableResultSettingsMap": {},
     "title": ""
    }
   },
   "outputs": [],
   "source": [
    "@dlt.table(comment=\"Gold aggregates: revenue per customer per 5m window\")"
   ]
  },
  {
   "cell_type": "code",
   "execution_count": 0,
   "metadata": {
    "application/vnd.databricks.v1+cell": {
     "cellMetadata": {},
     "inputWidgets": {},
     "nuid": "16042755-dbb4-4e58-aa44-1166c5b99003",
     "showTitle": false,
     "tableResultSettingsMap": {},
     "title": ""
    }
   },
   "outputs": [],
   "source": [
    "def gold_revenue():\n",
    "    from pyspark.sql import functions as F\n",
    "    s = dlt.read_stream('silver')\n",
    "    agg = (s.groupBy(F.window('event_ts','5 minutes'), F.col('customer_id'))\n",
    "             .agg(F.sum('amount').alias('revenue'), F.count('*').alias('orders'))\n",
    "             .select(F.col('window.start').alias('window_start'),\n",
    "                     F.col('window.end').alias('window_end'),\n",
    "                     'customer_id','revenue','orders'))\n",
    "    return agg"
   ]
  }
 ],
 "metadata": {
  "application/vnd.databricks.v1+notebook": {
   "computePreferences": null,
   "dashboards": [],
   "environmentMetadata": {
    "base_environment": "",
    "environment_version": "2"
   },
   "inputWidgetPreferences": null,
   "language": "python",
   "notebookMetadata": {
    "pythonIndentUnit": 4
   },
   "notebookName": "03_gold_aggregaters_DLT",
   "widgets": {}
  },
  "language_info": {
   "name": "python"
  }
 },
 "nbformat": 4,
 "nbformat_minor": 0
}
