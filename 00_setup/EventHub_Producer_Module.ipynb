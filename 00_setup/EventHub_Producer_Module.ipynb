{
 "cells": [
  {
   "cell_type": "markdown",
   "metadata": {
    "application/vnd.databricks.v1+cell": {
     "cellMetadata": {},
     "inputWidgets": {},
     "nuid": "bc50f367-4f6f-4491-9ba8-e51230ec13aa",
     "showTitle": false,
     "tableResultSettingsMap": {},
     "title": ""
    }
   },
   "source": [
    "## Producer Module\n",
    "Note : This module is used to upload the events to the event hub"
   ]
  },
  {
   "cell_type": "code",
   "execution_count": 0,
   "metadata": {
    "application/vnd.databricks.v1+cell": {
     "cellMetadata": {
      "byteLimit": 2048000,
      "rowLimit": 10000
     },
     "inputWidgets": {},
     "nuid": "3e5397eb-a511-433c-88e9-bdc25f384a1c",
     "showTitle": false,
     "tableResultSettingsMap": {},
     "title": ""
    }
   },
   "outputs": [],
   "source": [
    "%pip install azure-identity azure-eventhub"
   ]
  },
  {
   "cell_type": "code",
   "execution_count": 0,
   "metadata": {
    "application/vnd.databricks.v1+cell": {
     "cellMetadata": {
      "byteLimit": 2048000,
      "rowLimit": 10000
     },
     "inputWidgets": {},
     "nuid": "44b51e41-075b-4670-8c00-72f9f8547193",
     "showTitle": false,
     "tableResultSettingsMap": {},
     "title": ""
    }
   },
   "outputs": [],
   "source": [
    "%restart_python"
   ]
  },
  {
   "cell_type": "code",
   "execution_count": 0,
   "metadata": {
    "application/vnd.databricks.v1+cell": {
     "cellMetadata": {
      "byteLimit": 2048000,
      "rowLimit": 10000
     },
     "inputWidgets": {},
     "nuid": "9bdf7f66-0705-4247-b361-f01dbb6142d4",
     "showTitle": false,
     "tableResultSettingsMap": {},
     "title": ""
    }
   },
   "outputs": [],
   "source": [
    "# sanity check\n",
    "import azure.identity, azure.eventhub\n",
    "print(\"azure-identity:\", azure.identity.__version__)\n",
    "print(\"azure-eventhub:\", azure.eventhub.__version__)"
   ]
  },
  {
   "cell_type": "code",
   "execution_count": 0,
   "metadata": {
    "application/vnd.databricks.v1+cell": {
     "cellMetadata": {
      "byteLimit": 2048000,
      "rowLimit": 10000
     },
     "inputWidgets": {},
     "nuid": "123aa61d-6678-4a83-b2da-9b06e29c9066",
     "showTitle": false,
     "tableResultSettingsMap": {},
     "title": ""
    }
   },
   "outputs": [],
   "source": [
    "dbutils.secrets.list('gijoformula1-scope')"
   ]
  },
  {
   "cell_type": "code",
   "execution_count": 0,
   "metadata": {
    "application/vnd.databricks.v1+cell": {
     "cellMetadata": {
      "byteLimit": 2048000,
      "rowLimit": 10000
     },
     "inputWidgets": {},
     "nuid": "d4731123-66a6-460b-b169-4114eae9a34b",
     "showTitle": false,
     "tableResultSettingsMap": {},
     "title": ""
    }
   },
   "outputs": [],
   "source": [
    "from azure.identity import ClientSecretCredential\n",
    "from azure.eventhub import EventHubProducerClient, EventData\n",
    "\n",
    "# --- secrets from Key Vault scope ---\n",
    "SCOPE = \"gijoformula1-scope\"\n",
    "tenant_id     = dbutils.secrets.get(scope=SCOPE, key=\"gijoformula1-app-tenent-id\")\n",
    "client_id     = dbutils.secrets.get(scope=SCOPE, key=\"gijoformula1-app-client-id\")\n",
    "client_secret = dbutils.secrets.get(scope=SCOPE, key=\"keh-client-secret\")\n",
    "\n",
    "cred = ClientSecretCredential(tenant_id, client_id, client_secret)\n",
    "producer = EventHubProducerClient(\n",
    "    fully_qualified_namespace=\"creditrisk.servicebus.windows.net\",\n",
    "    eventhub_name=\"customers\",\n",
    "    credential=cred\n",
    ")\n",
    "with producer:\n",
    "    producer.send_batch([EventData('{\"smoke\":\"ok\"}')])\n",
    "print(\"Sent 1 event\")"
   ]
  },
  {
   "cell_type": "code",
   "execution_count": 0,
   "metadata": {
    "application/vnd.databricks.v1+cell": {
     "cellMetadata": {
      "byteLimit": 2048000,
      "rowLimit": 10000
     },
     "inputWidgets": {},
     "nuid": "35a062da-e1b9-4582-b46b-715a802cd367",
     "showTitle": false,
     "tableResultSettingsMap": {},
     "title": ""
    }
   },
   "outputs": [],
   "source": [
    "bootstrap = \"creditrisk.servicebus.windows.net:9093\"\n",
    "print(bootstrap)"
   ]
  },
  {
   "cell_type": "code",
   "execution_count": 0,
   "metadata": {
    "application/vnd.databricks.v1+cell": {
     "cellMetadata": {
      "byteLimit": 2048000,
      "rowLimit": 10000
     },
     "inputWidgets": {},
     "nuid": "86daade7-66d9-467f-8d2e-c7276f82311e",
     "showTitle": false,
     "tableResultSettingsMap": {},
     "title": ""
    }
   },
   "outputs": [],
   "source": [
    "# run once after installing azure-identity/azure-eventhub and restarting Python\n",
    "from azure.identity import ClientSecretCredential\n",
    "from azure.eventhub import EventHubProducerClient, EventData\n",
    "\n",
    "SCOPE = \"gijoformula1-scope\"\n",
    "tenant_id     = dbutils.secrets.get(SCOPE, \"gijoformula1-app-tenent-id\")\n",
    "client_id     = dbutils.secrets.get(SCOPE, \"gijoformula1-app-client-id\")\n",
    "client_secret = dbutils.secrets.get(SCOPE, \"keh-client-secret\")\n",
    "\n",
    "cred = ClientSecretCredential(tenant_id, client_id, client_secret)\n",
    "\n",
    "try:\n",
    "    producer = EventHubProducerClient(\n",
    "        fully_qualified_namespace=\"creditrisk.servicebus.windows.net\",\n",
    "        eventhub_name=\"customers\",\n",
    "        credential=cred,\n",
    "    )\n",
    "    with producer:\n",
    "        producer.send_batch([EventData('{\"probe\":\"ok\"}')])\n",
    "    print(\"✅ AMQP probe sent to 'customers'\")\n",
    "except Exception as e:\n",
    "    print(\"❌ AMQP probe failed:\", type(e).__name__, \"-\", str(e))\n"
   ]
  },
  {
   "cell_type": "code",
   "execution_count": 0,
   "metadata": {
    "application/vnd.databricks.v1+cell": {
     "cellMetadata": {
      "byteLimit": 2048000,
      "rowLimit": 10000
     },
     "inputWidgets": {},
     "nuid": "fdacd08e-87d6-45a0-a8a0-3d1593c610cc",
     "showTitle": false,
     "tableResultSettingsMap": {},
     "title": ""
    }
   },
   "outputs": [],
   "source": [
    "# If you haven't yet on this cluster:\n",
    "# %pip install --upgrade azure-identity azure-eventhub\n",
    "# dbutils.library.restartPython()\n",
    "\n",
    "from azure.identity import ClientSecretCredential\n",
    "from azure.eventhub import EventHubProducerClient, EventData\n",
    "\n",
    "SCOPE = \"gijoformula1-scope\"\n",
    "tenant_id     = dbutils.secrets.get(SCOPE, \"gijoformula1-app-tenent-id\")\n",
    "client_id     = dbutils.secrets.get(SCOPE, \"gijoformula1-app-client-id\")\n",
    "client_secret = dbutils.secrets.get(SCOPE, \"keh-client-secret\")\n",
    "\n",
    "cred = ClientSecretCredential(tenant_id, client_id, client_secret)\n",
    "NS   = \"creditrisk.servicebus.windows.net\"\n",
    "\n",
    "def send_dbfs_jsonl_to_hub(dbfs_path: str, hub_name: str, batch_bytes: int = 256*1024):\n",
    "    # Read file from DBFS with Spark (works on shared UC clusters)\n",
    "    df = spark.read.text(dbfs_path).selectExpr(\"value\")  # one line per Row(value=...)\n",
    "    producer = EventHubProducerClient(\n",
    "        fully_qualified_namespace=NS,\n",
    "        eventhub_name=hub_name,\n",
    "        credential=cred\n",
    "    )\n",
    "    sent = 0\n",
    "    with producer:\n",
    "        batch = producer.create_batch(max_size_in_bytes=batch_bytes)\n",
    "        for row in df.toLocalIterator():          # stream lines to the driver\n",
    "            line = row[\"value\"]\n",
    "            ev = EventData(line)\n",
    "            try:\n",
    "                batch.add(ev)\n",
    "            except ValueError:\n",
    "                producer.send_batch(batch)\n",
    "                sent += len(batch)\n",
    "                batch = producer.create_batch(max_size_in_bytes=batch_bytes)\n",
    "                batch.add(ev)\n",
    "        if len(batch) > 0:\n",
    "            producer.send_batch(batch)\n",
    "            sent += len(batch)\n",
    "    print(f\"Sent {sent} events to '{hub_name}' from {dbfs_path}\")\n",
    "\n",
    "send_dbfs_jsonl_to_hub(\"dbfs:/FileStore/tables/customers.jsonl\", \"customers\")\n",
    "send_dbfs_jsonl_to_hub(\"dbfs:/FileStore/tables/transactions.jsonl\", \"transactions\")\n",
    "send_dbfs_jsonl_to_hub(\"dbfs:/FileStore/tables/credit_applications.jsonl\", \"credit_applications\")\n"
   ]
  }
 ],
 "metadata": {
  "application/vnd.databricks.v1+notebook": {
   "computePreferences": null,
   "dashboards": [],
   "environmentMetadata": {
    "base_environment": "",
    "environment_version": "3"
   },
   "inputWidgetPreferences": null,
   "language": "python",
   "notebookMetadata": {
    "mostRecentlyExecutedCommandWithImplicitDF": {
     "commandId": 5201464109545019,
     "dataframes": [
      "_sqldf"
     ]
    },
    "pythonIndentUnit": 4
   },
   "notebookName": "EventHub_Producer_Module",
   "widgets": {}
  },
  "language_info": {
   "name": "python"
  }
 },
 "nbformat": 4,
 "nbformat_minor": 0
}
