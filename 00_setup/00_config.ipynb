{
 "cells": [
  {
   "cell_type": "markdown",
   "metadata": {
    "application/vnd.databricks.v1+cell": {
     "cellMetadata": {},
     "inputWidgets": {},
     "nuid": "115497d5-84a8-40ba-b79d-6bd90038487a",
     "showTitle": false,
     "tableResultSettingsMap": {},
     "title": ""
    }
   },
   "source": [
    "#### Secure Config Setup "
   ]
  },
  {
   "cell_type": "code",
   "execution_count": 0,
   "metadata": {
    "application/vnd.databricks.v1+cell": {
     "cellMetadata": {},
     "inputWidgets": {},
     "nuid": "a38fa8eb-69c2-4ef1-a4a0-45537cfa4ea0",
     "showTitle": false,
     "tableResultSettingsMap": {},
     "title": ""
    }
   },
   "outputs": [],
   "source": [
    "bootstrap = dbutils.secrets.get('confluent-secrets', 'kafka.bootstrap')\n",
    "k_user   = dbutils.secrets.get('confluent-secrets', 'kafka.username')\n",
    "k_pass   = dbutils.secrets.get('confluent-secrets', 'kafka.password')\n",
    "sr_url   = dbutils.secrets.get('confluent-secrets', 'sr.url')\n",
    "sr_key   = dbutils.secrets.get('confluent-secrets', 'sr.key')\n",
    "sr_sec   = dbutils.secrets.get('confluent-secrets', 'sr.secret')\n",
    "\n",
    "topic    = 'orders.v1'\n",
    "consumer_group = 'orders-consumer-dbx'\n",
    "\n",
    "kafka_opts = {\n",
    "  'kafka.bootstrap.servers': bootstrap,\n",
    "  'subscribe': topic,\n",
    "  'startingOffsets': 'latest',  # 'earliest' for backfills\n",
    "  'failOnDataLoss': 'false',\n",
    "  'kafka.security.protocol': 'SASL_SSL',\n",
    "  'kafka.sasl.mechanism': 'PLAIN',\n",
    "  'kafka.sasl.jaas.config': f'org.apache.kafka.common.security.plain.PlainLoginModule required username=\"{k_user}\" password=\"{k_pass}\";'\n",
    "}\n",
    "\n",
    "schema_subject = f'{topic}-value'  # Confluent default subject naming"
   ]
  },
  {
   "cell_type": "markdown",
   "metadata": {
    "application/vnd.databricks.v1+cell": {
     "cellMetadata": {},
     "inputWidgets": {},
     "nuid": "29ad151a-2ff5-4744-93a4-6e3c148c165c",
     "showTitle": false,
     "tableResultSettingsMap": {},
     "title": ""
    }
   },
   "source": [
    "#### Fetch latest Avro schema from Schema Registry"
   ]
  },
  {
   "cell_type": "code",
   "execution_count": 0,
   "metadata": {
    "application/vnd.databricks.v1+cell": {
     "cellMetadata": {},
     "inputWidgets": {},
     "nuid": "19cd5af5-f11d-4ee1-9ef2-7d5e3e026db8",
     "showTitle": false,
     "tableResultSettingsMap": {},
     "title": ""
    }
   },
   "outputs": [],
   "source": [
    "import requests\n",
    "from requests.auth import HTTPBasicAuth\n",
    "\n",
    "resp = requests.get(f'{sr_url}/subjects/{schema_subject}/versions/latest',\n",
    "                    auth=HTTPBasicAuth(sr_key, sr_sec))\n",
    "resp.raise_for_status()\n",
    "writer_schema = resp.json()['schema']  # JSON string"
   ]
  }
 ],
 "metadata": {
  "application/vnd.databricks.v1+notebook": {
   "computePreferences": null,
   "dashboards": [],
   "environmentMetadata": {
    "base_environment": "",
    "environment_version": "2"
   },
   "inputWidgetPreferences": null,
   "language": "python",
   "notebookMetadata": {
    "pythonIndentUnit": 4
   },
   "notebookName": "00_config",
   "widgets": {}
  },
  "language_info": {
   "name": "python"
  }
 },
 "nbformat": 4,
 "nbformat_minor": 0
}
