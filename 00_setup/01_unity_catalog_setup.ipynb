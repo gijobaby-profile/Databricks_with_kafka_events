{
 "cells": [
  {
   "cell_type": "code",
   "execution_count": 0,
   "metadata": {
    "application/vnd.databricks.v1+cell": {
     "cellMetadata": {},
     "inputWidgets": {},
     "nuid": "5481c679-1c8e-47cb-966b-1d9dc19a08b6",
     "showTitle": false,
     "tableResultSettingsMap": {},
     "title": ""
    }
   },
   "outputs": [],
   "source": [
    "CREATE SCHEMA IF NOT EXISTS main.orders;\n",
    "\n",
    "CREATE TABLE IF NOT EXISTS main.orders.bronze USING DELTA LOCATION 'dbfs:/pipelines/orders/bronze';\n",
    "CREATE TABLE IF NOT EXISTS main.orders.silver USING DELTA LOCATION 'dbfs:/pipelines/orders/silver';\n",
    "CREATE TABLE IF NOT EXISTS main.orders.gold_revenue USING DELTA LOCATION 'dbfs:/pipelines/orders/gold_revenue';\n",
    "CREATE TABLE IF NOT EXISTS main.orders.dlq USING DELTA LOCATION 'dbfs:/pipelines/orders/dlq';"
   ]
  }
 ],
 "metadata": {
  "application/vnd.databricks.v1+notebook": {
   "computePreferences": null,
   "dashboards": [],
   "environmentMetadata": {
    "base_environment": "",
    "environment_version": "2"
   },
   "inputWidgetPreferences": null,
   "language": "sql",
   "notebookMetadata": {
    "pythonIndentUnit": 4
   },
   "notebookName": "01_unity_catalog_setup",
   "widgets": {}
  },
  "language_info": {
   "name": "sql"
  }
 },
 "nbformat": 4,
 "nbformat_minor": 0
}
