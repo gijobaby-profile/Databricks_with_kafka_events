{
 "cells": [
  {
   "cell_type": "code",
   "execution_count": 0,
   "metadata": {
    "application/vnd.databricks.v1+cell": {
     "cellMetadata": {},
     "inputWidgets": {},
     "nuid": "fdf2e3f6-e592-42c7-a024-4ac058e649d0",
     "showTitle": false,
     "tableResultSettingsMap": {},
     "title": ""
    }
   },
   "outputs": [],
   "source": [
    "import dlt\n",
    "from pyspark.sql.functions import col\n",
    "from pyspark.sql.avro.functions import from_avro"
   ]
  },
  {
   "cell_type": "code",
   "execution_count": 0,
   "metadata": {
    "application/vnd.databricks.v1+cell": {
     "cellMetadata": {},
     "inputWidgets": {},
     "nuid": "6aa9428a-9e04-49f3-b6e0-2aecfd68cc47",
     "showTitle": false,
     "tableResultSettingsMap": {},
     "title": ""
    }
   },
   "outputs": [],
   "source": [
    "# Parameters are typically passed via Pipeline settings\n",
    "writer_schema = spark.conf.get('pipelines.writer_schema')"
   ]
  },
  {
   "cell_type": "code",
   "execution_count": 0,
   "metadata": {
    "application/vnd.databricks.v1+cell": {
     "cellMetadata": {},
     "inputWidgets": {},
     "nuid": "b91ad005-e1d7-4a55-92af-2228b5ba0443",
     "showTitle": false,
     "tableResultSettingsMap": {},
     "title": ""
    }
   },
   "outputs": [],
   "source": [
    "# constraints for data validataion\n",
    "@dlt.expect(\"non_negative_amount\", \"amount >= 0\")"
   ]
  },
  {
   "cell_type": "code",
   "execution_count": 0,
   "metadata": {
    "application/vnd.databricks.v1+cell": {
     "cellMetadata": {},
     "inputWidgets": {},
     "nuid": "113c0c10-6d3f-4222-ba46-0797aa9423bc",
     "showTitle": false,
     "tableResultSettingsMap": {},
     "title": ""
    }
   },
   "outputs": [],
   "source": [
    "# Table decleration with decorators\n",
    "@dlt.table(comment=\"Decoded and cleansed (silver)\")"
   ]
  },
  {
   "cell_type": "code",
   "execution_count": 0,
   "metadata": {
    "application/vnd.databricks.v1+cell": {
     "cellMetadata": {},
     "inputWidgets": {},
     "nuid": "8fa4adbc-d882-4fa5-9077-d10ac6c42627",
     "showTitle": false,
     "tableResultSettingsMap": {},
     "title": ""
    }
   },
   "outputs": [],
   "source": [
    "def silver():\n",
    "    b = dlt.read_stream('bronze')\n",
    "    decoded = b.select(from_avro('value_bytes', writer_schema).alias('data'), 'kafka_ts','topic','partition','offset')\n",
    "    flat = decoded.select(\n",
    "        col('data.order_id').alias('order_id'),\n",
    "        col('data.event_time').cast('timestamp').alias('event_ts'),\n",
    "        col('data.customer_id').alias('customer_id'),\n",
    "        col('data.amount').cast('double').alias('amount'),\n",
    "        'kafka_ts','topic','partition','offset'\n",
    "    )\n",
    "    return flat"
   ]
  }
 ],
 "metadata": {
  "application/vnd.databricks.v1+notebook": {
   "computePreferences": null,
   "dashboards": [],
   "environmentMetadata": {
    "base_environment": "",
    "environment_version": "2"
   },
   "inputWidgetPreferences": null,
   "language": "python",
   "notebookMetadata": {
    "pythonIndentUnit": 4
   },
   "notebookName": "02_silver_decode_clean_DLT",
   "widgets": {}
  },
  "language_info": {
   "name": "python"
  }
 },
 "nbformat": 4,
 "nbformat_minor": 0
}
