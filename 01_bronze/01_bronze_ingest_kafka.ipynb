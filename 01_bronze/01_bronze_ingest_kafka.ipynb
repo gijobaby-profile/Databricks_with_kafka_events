{
 "cells": [
  {
   "cell_type": "code",
   "execution_count": 0,
   "metadata": {
    "application/vnd.databricks.v1+cell": {
     "cellMetadata": {},
     "inputWidgets": {},
     "nuid": "8fe345cf-fd85-4fa1-af94-3ad3b7df74ae",
     "showTitle": false,
     "tableResultSettingsMap": {},
     "title": ""
    }
   },
   "outputs": [],
   "source": [
    "from pyspark.sql import functions as F"
   ]
  },
  {
   "cell_type": "code",
   "execution_count": 0,
   "metadata": {
    "application/vnd.databricks.v1+cell": {
     "cellMetadata": {},
     "inputWidgets": {},
     "nuid": "78752258-6415-4171-9545-2d08c6c41164",
     "showTitle": false,
     "tableResultSettingsMap": {},
     "title": ""
    }
   },
   "outputs": [],
   "source": [
    "raw_kafka = (spark.readStream\n",
    "  .format('kafka')\n",
    "  .options(**kafka_opts)\n",
    "  .load())"
   ]
  },
  {
   "cell_type": "code",
   "execution_count": 0,
   "metadata": {
    "application/vnd.databricks.v1+cell": {
     "cellMetadata": {},
     "inputWidgets": {},
     "nuid": "4d345566-b5c5-4648-875e-0a550fb0bc15",
     "showTitle": false,
     "tableResultSettingsMap": {},
     "title": ""
    }
   },
   "outputs": [],
   "source": [
    "bronze_base = 'dbfs:/pipelines/orders/bronze'\n",
    "ckpt_bronze = 'dbfs:/pipelines/orders/_ckpt_bronze'"
   ]
  },
  {
   "cell_type": "code",
   "execution_count": 0,
   "metadata": {
    "application/vnd.databricks.v1+cell": {
     "cellMetadata": {},
     "inputWidgets": {},
     "nuid": "bb687198-403a-4b59-a9c6-63cce419ed6d",
     "showTitle": false,
     "tableResultSettingsMap": {},
     "title": ""
    }
   },
   "outputs": [],
   "source": [
    "# Persist raw bytes and metadata (don’t parse yet)\n",
    "bronze_df = (raw_kafka\n",
    "  .select(\n",
    "      F.col('key').alias('kafka_key'),\n",
    "      F.col('value').alias('value_bytes'),\n",
    "      F.col('headers'),\n",
    "      F.col('timestamp').alias('kafka_ts'),\n",
    "      F.col('topic'), F.col('partition'), F.col('offset')\n",
    "  ))\n",
    "\n"
   ]
  },
  {
   "cell_type": "code",
   "execution_count": 0,
   "metadata": {
    "application/vnd.databricks.v1+cell": {
     "cellMetadata": {},
     "inputWidgets": {},
     "nuid": "f21b12ca-847c-45db-97ea-30db13c485af",
     "showTitle": false,
     "tableResultSettingsMap": {},
     "title": ""
    }
   },
   "outputs": [],
   "source": [
    "(bronze_df.writeStream\n",
    "  .format('delta')\n",
    "  .outputMode('append')\n",
    "  .option('checkpointLocation', ckpt_bronze)\n",
    "  .trigger(processingTime='5 seconds')\n",
    "  .start(bronze_base))"
   ]
  }
 ],
 "metadata": {
  "application/vnd.databricks.v1+notebook": {
   "computePreferences": null,
   "dashboards": [],
   "environmentMetadata": {
    "base_environment": "",
    "environment_version": "2"
   },
   "inputWidgetPreferences": null,
   "language": "python",
   "notebookMetadata": {
    "pythonIndentUnit": 4
   },
   "notebookName": "01_bronze_ingest_kafka",
   "widgets": {}
  },
  "language_info": {
   "name": "python"
  }
 },
 "nbformat": 4,
 "nbformat_minor": 0
}
